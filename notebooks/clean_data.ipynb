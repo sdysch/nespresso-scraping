{
 "cells": [
  {
   "cell_type": "code",
   "execution_count": 94,
   "id": "541f78f5-4579-4a45-93db-764a2305a061",
   "metadata": {},
   "outputs": [],
   "source": [
    "import pandas as pd\n",
    "import numpy as np"
   ]
  },
  {
   "cell_type": "code",
   "execution_count": 4,
   "id": "8bf8e9c1-5888-4f2c-a1ab-a55af09c195d",
   "metadata": {},
   "outputs": [
    {
     "data": {
      "text/html": [
       "<div>\n",
       "<style scoped>\n",
       "    .dataframe tbody tr th:only-of-type {\n",
       "        vertical-align: middle;\n",
       "    }\n",
       "\n",
       "    .dataframe tbody tr th {\n",
       "        vertical-align: top;\n",
       "    }\n",
       "\n",
       "    .dataframe thead th {\n",
       "        text-align: right;\n",
       "    }\n",
       "</style>\n",
       "<table border=\"1\" class=\"dataframe\">\n",
       "  <thead>\n",
       "    <tr style=\"text-align: right;\">\n",
       "      <th></th>\n",
       "      <th>name</th>\n",
       "      <th>url</th>\n",
       "      <th>intensity</th>\n",
       "      <th>price</th>\n",
       "      <th>description</th>\n",
       "      <th>ranges</th>\n",
       "      <th>flavors</th>\n",
       "      <th>description_scraped</th>\n",
       "    </tr>\n",
       "  </thead>\n",
       "  <tbody>\n",
       "    <tr>\n",
       "      <th>0</th>\n",
       "      <td>Mild Coffee 120 Capsule Assortment</td>\n",
       "      <td>https://www.nespresso.com//uk/en/order/capsule...</td>\n",
       "      <td>0</td>\n",
       "      <td>73.3</td>\n",
       "      <td>NaN</td>\n",
       "      <td>['nesclub2.uk.b2c/cat/capsule-range-coffee-ass...</td>\n",
       "      <td>[]</td>\n",
       "      <td>NaN</td>\n",
       "    </tr>\n",
       "    <tr>\n",
       "      <th>1</th>\n",
       "      <td>Decaf and Half Caff 90 Capsule Assortment</td>\n",
       "      <td>https://www.nespresso.com//uk/en/order/capsule...</td>\n",
       "      <td>0</td>\n",
       "      <td>50.5</td>\n",
       "      <td>NaN</td>\n",
       "      <td>['nesclub2.uk.b2c/cat/capsule-range-coffee-ass...</td>\n",
       "      <td>[]</td>\n",
       "      <td>NaN</td>\n",
       "    </tr>\n",
       "    <tr>\n",
       "      <th>2</th>\n",
       "      <td>Summer Iced 120 Capsule Assortment</td>\n",
       "      <td>https://www.nespresso.com//uk/en/order/capsule...</td>\n",
       "      <td>0</td>\n",
       "      <td>74.2</td>\n",
       "      <td>NaN</td>\n",
       "      <td>['nesclub2.uk.b2c/cat/capsule-range-coffee-ass...</td>\n",
       "      <td>[]</td>\n",
       "      <td>NaN</td>\n",
       "    </tr>\n",
       "    <tr>\n",
       "      <th>3</th>\n",
       "      <td>Single Origin Pack</td>\n",
       "      <td>https://www.nespresso.com//uk/en/order/capsule...</td>\n",
       "      <td>0</td>\n",
       "      <td>63.5</td>\n",
       "      <td>NaN</td>\n",
       "      <td>['nesclub2.uk.b2c/cat/capsule-range-coffee-ass...</td>\n",
       "      <td>[]</td>\n",
       "      <td>NaN</td>\n",
       "    </tr>\n",
       "    <tr>\n",
       "      <th>4</th>\n",
       "      <td>Wellness Boost Pack</td>\n",
       "      <td>https://www.nespresso.com//uk/en/order/capsule...</td>\n",
       "      <td>0</td>\n",
       "      <td>59.4</td>\n",
       "      <td>NaN</td>\n",
       "      <td>['nesclub2.uk.b2c/cat/capsule-range-coffee-ass...</td>\n",
       "      <td>[]</td>\n",
       "      <td>NaN</td>\n",
       "    </tr>\n",
       "  </tbody>\n",
       "</table>\n",
       "</div>"
      ],
      "text/plain": [
       "                                        name  \\\n",
       "0         Mild Coffee 120 Capsule Assortment   \n",
       "1  Decaf and Half Caff 90 Capsule Assortment   \n",
       "2         Summer Iced 120 Capsule Assortment   \n",
       "3                         Single Origin Pack   \n",
       "4                        Wellness Boost Pack   \n",
       "\n",
       "                                                 url  intensity  price  \\\n",
       "0  https://www.nespresso.com//uk/en/order/capsule...          0   73.3   \n",
       "1  https://www.nespresso.com//uk/en/order/capsule...          0   50.5   \n",
       "2  https://www.nespresso.com//uk/en/order/capsule...          0   74.2   \n",
       "3  https://www.nespresso.com//uk/en/order/capsule...          0   63.5   \n",
       "4  https://www.nespresso.com//uk/en/order/capsule...          0   59.4   \n",
       "\n",
       "   description                                             ranges flavors  \\\n",
       "0          NaN  ['nesclub2.uk.b2c/cat/capsule-range-coffee-ass...      []   \n",
       "1          NaN  ['nesclub2.uk.b2c/cat/capsule-range-coffee-ass...      []   \n",
       "2          NaN  ['nesclub2.uk.b2c/cat/capsule-range-coffee-ass...      []   \n",
       "3          NaN  ['nesclub2.uk.b2c/cat/capsule-range-coffee-ass...      []   \n",
       "4          NaN  ['nesclub2.uk.b2c/cat/capsule-range-coffee-ass...      []   \n",
       "\n",
       "  description_scraped  \n",
       "0                 NaN  \n",
       "1                 NaN  \n",
       "2                 NaN  \n",
       "3                 NaN  \n",
       "4                 NaN  "
      ]
     },
     "execution_count": 4,
     "metadata": {},
     "output_type": "execute_result"
    }
   ],
   "source": [
    "filename = '../data/raw_coffee_data.csv'\n",
    "df = pd.read_csv(filename, index_col=0)\n",
    "df.head()"
   ]
  },
  {
   "cell_type": "markdown",
   "id": "a7f24ac8-e877-4814-a292-e16d5fec3da3",
   "metadata": {},
   "source": [
    "# Drop columns which are 100% NaN"
   ]
  },
  {
   "cell_type": "code",
   "execution_count": 6,
   "id": "db5192fd-9f94-47e3-a85e-79018bfb8bdc",
   "metadata": {},
   "outputs": [
    {
     "data": {
      "text/plain": [
       "name                   0.000000\n",
       "url                    0.000000\n",
       "intensity              0.000000\n",
       "price                  0.000000\n",
       "description            1.000000\n",
       "ranges                 0.000000\n",
       "flavors                0.000000\n",
       "description_scraped    0.291667\n",
       "dtype: float64"
      ]
     },
     "execution_count": 6,
     "metadata": {},
     "output_type": "execute_result"
    }
   ],
   "source": [
    "df.isna().sum() / df.shape[0]"
   ]
  },
  {
   "cell_type": "code",
   "execution_count": 7,
   "id": "9307932f-214d-40cf-b232-822cab003f37",
   "metadata": {},
   "outputs": [],
   "source": [
    "df = df.drop(['description'], axis='columns')"
   ]
  },
  {
   "cell_type": "markdown",
   "id": "39b6ad2a-1fbb-4c8f-ab84-8a20c2c74444",
   "metadata": {},
   "source": [
    "# Change ranges into coffee capsule type"
   ]
  },
  {
   "cell_type": "code",
   "execution_count": 92,
   "id": "b8f7c9c8-592c-4d9b-a71f-2cefc6ec8219",
   "metadata": {},
   "outputs": [],
   "source": [
    "def get_coffee_type(val):\n",
    "    prefix = 'nesclub2.uk.b2c/cat/capsule-range-label-'\n",
    "    \n",
    "    mapper = {\n",
    "        '40ml': 'espresso',\n",
    "        '80ml': 'double espresso',\n",
    "        '150ml': 'lungo',\n",
    "        '230ml': 'mug',\n",
    "        'Carafe': 'carafe',\n",
    "    }\n",
    "    \n",
    "    _val = val.strip(\"[]\")\n",
    "    _val = _val.lstrip(\"'\")\n",
    "    _val = _val.rstrip(\"'\")\n",
    "    _val = _val.split(',')\n",
    "    \n",
    "    for i in _val:\n",
    "        for k, v in mapper.items():\n",
    "            if k in i:\n",
    "                return v\n",
    "\n",
    "df['label'] = df['ranges'].apply(lambda x: get_coffee_type(x))"
   ]
  },
  {
   "cell_type": "markdown",
   "id": "139c058e-9ca4-4741-9eb1-310ad50e1502",
   "metadata": {},
   "source": [
    "# Clean up text in descriptions"
   ]
  },
  {
   "cell_type": "code",
   "execution_count": 100,
   "id": "6bfbf4c6-649b-4aed-a08f-6ab0ec790a23",
   "metadata": {},
   "outputs": [],
   "source": [
    "import re\n",
    "\n",
    "def strip_html(text):\n",
    "    try:\n",
    "        return re.sub('<[^<]+?>', '', text)\n",
    "    except TypeError:\n",
    "        return None\n",
    "\n",
    "df['description_scraped'] = df['description_scraped'].apply(strip_html)"
   ]
  },
  {
   "cell_type": "code",
   "execution_count": 105,
   "id": "93287a4c-999f-48a2-9f75-fe4ce68ff29f",
   "metadata": {},
   "outputs": [],
   "source": [
    "cols_to_keep = [\n",
    "    'name',\n",
    "    'url',\n",
    "    'intensity',\n",
    "    'price',\n",
    "    'description_scraped',\n",
    "    'label',\n",
    "]\n",
    "df = df[cols_to_keep]"
   ]
  },
  {
   "cell_type": "code",
   "execution_count": 106,
   "id": "3b6d3be1-a641-4bb6-aa29-d381ff6209b2",
   "metadata": {},
   "outputs": [],
   "source": [
    "df.to_csv('../data/cleaned_coffee_data.csv')"
   ]
  },
  {
   "cell_type": "code",
   "execution_count": null,
   "id": "4cb43de9-612f-4f0c-983d-17d8928e2aca",
   "metadata": {},
   "outputs": [],
   "source": []
  }
 ],
 "metadata": {
  "kernelspec": {
   "display_name": "Python 3 (ipykernel)",
   "language": "python",
   "name": "python3"
  },
  "language_info": {
   "codemirror_mode": {
    "name": "ipython",
    "version": 3
   },
   "file_extension": ".py",
   "mimetype": "text/x-python",
   "name": "python",
   "nbconvert_exporter": "python",
   "pygments_lexer": "ipython3",
   "version": "3.8.10"
  }
 },
 "nbformat": 4,
 "nbformat_minor": 5
}
